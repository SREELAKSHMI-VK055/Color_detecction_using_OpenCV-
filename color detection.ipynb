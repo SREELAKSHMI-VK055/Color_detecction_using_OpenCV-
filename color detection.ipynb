{
 "cells": [
  {
   "cell_type": "code",
   "execution_count": null,
   "id": "1ead39f3-345c-47fb-a780-d8fae8448288",
   "metadata": {
    "scrolled": true
   },
   "outputs": [],
   "source": [
    "import cv2\n",
    "import numpy as np\n",
    "def nothing(x):\n",
    "    pass\n",
    "cv2.namedWindow(\"frame\")\n",
    "cv2.createTrackbar(\"H\", \"frame\", 0, 179, nothing)\n",
    "cv2.createTrackbar(\"S\", \"frame\", 255, 255, nothing)\n",
    "cv2.createTrackbar(\"V\", \"frame\", 255, 255, nothing)\n",
    "\n",
    "img_hsv = np.zeros((250, 500, 3), np.uint8)\n",
    "\n",
    "while True:\n",
    "    h= cv2.getTrackbarPos(\"H\", \"frame\")\n",
    "    s= cv2.getTrackbarPos(\"S\", \"frame\")\n",
    "    v= cv2.getTrackbarPos(\"V\", \"frame\")\n",
    "    \n",
    "    img_hsv[:] = (h,s,v)\n",
    "    img_bgr = cv2.cvtColor(img_hsv, cv2.COLOR_HSV2BGR)\n",
    "    \n",
    "    cv2.imshow(\"frame\", img_bgr)\n",
    "    \n",
    "    if cv2.waitKey(1)==ord('q'):\n",
    "        break\n",
    "\n",
    "cv2.destroyAllWindows()\n",
    "\n",
    "\n",
    "\n"
   ]
  },
  {
   "cell_type": "code",
   "execution_count": 5,
   "id": "39f0b127-8489-47df-a812-52e08900e739",
   "metadata": {
    "scrolled": true
   },
   "outputs": [
    {
     "ename": "error",
     "evalue": "OpenCV(4.8.0) D:\\a\\opencv-python\\opencv-python\\opencv\\modules\\imgproc\\src\\color.cpp:182: error: (-215:Assertion failed) !_src.empty() in function 'cv::cvtColor'\n",
     "output_type": "error",
     "traceback": [
      "\u001b[1;31m---------------------------------------------------------------------------\u001b[0m",
      "\u001b[1;31merror\u001b[0m                                     Traceback (most recent call last)",
      "Cell \u001b[1;32mIn[5], line 7\u001b[0m\n\u001b[0;32m      5\u001b[0m \u001b[38;5;28;01mwhile\u001b[39;00m \u001b[38;5;28;01mTrue\u001b[39;00m:\n\u001b[0;32m      6\u001b[0m     _, frame \u001b[38;5;241m=\u001b[39m cap\u001b[38;5;241m.\u001b[39mread()\n\u001b[1;32m----> 7\u001b[0m     hsv_frame \u001b[38;5;241m=\u001b[39m \u001b[43mcv2\u001b[49m\u001b[38;5;241;43m.\u001b[39;49m\u001b[43mcvtColor\u001b[49m\u001b[43m(\u001b[49m\u001b[43mframe\u001b[49m\u001b[43m,\u001b[49m\u001b[43m \u001b[49m\u001b[43mcv2\u001b[49m\u001b[38;5;241;43m.\u001b[39;49m\u001b[43mCOLOR_BGR2HSV\u001b[49m\u001b[43m)\u001b[49m\n\u001b[0;32m      8\u001b[0m     height,width,_ \u001b[38;5;241m=\u001b[39m frame\u001b[38;5;241m.\u001b[39mshape\n\u001b[0;32m      9\u001b[0m     cx \u001b[38;5;241m=\u001b[39m \u001b[38;5;28mint\u001b[39m(width\u001b[38;5;241m/\u001b[39m\u001b[38;5;241m2\u001b[39m)\n",
      "\u001b[1;31merror\u001b[0m: OpenCV(4.8.0) D:\\a\\opencv-python\\opencv-python\\opencv\\modules\\imgproc\\src\\color.cpp:182: error: (-215:Assertion failed) !_src.empty() in function 'cv::cvtColor'\n"
     ]
    }
   ],
   "source": [
    "import cv2\n",
    "cap = cv2.VideoCapture(0)\n",
    "cap.set(cv2.CAP_PROP_FRAME_WIDTH, 1280)\n",
    "cap.set(cv2.CAP_PROP_FRAME_HEIGHT, 720)\n",
    "while True:\n",
    "    _, frame = cap.read()\n",
    "    hsv_frame = cv2.cvtColor(frame, cv2.COLOR_BGR2HSV)\n",
    "    height,width,_ = frame.shape\n",
    "    cx = int(width/2)\n",
    "    cy = int(height/2)\n",
    "    pixel_center = hsv_frame[cy , cx]\n",
    "    hue_value = pixel_center[0]\n",
    "    \n",
    "\n",
    "    color = \"Undefined\"\n",
    "    if hue_value <6:\n",
    "        color= \"RED\"\n",
    "    elif hue_value < 18:\n",
    "        color= \"ORANGE\"\n",
    "    elif hue_value < 29:\n",
    "          color= \"YELLOW\"\n",
    "    elif hue_value < 74:\n",
    "          color= \"GREEEN\"\n",
    "    elif hue_value < 133:\n",
    "          color= \"BLUE\"\n",
    "    elif hue_value < 146:\n",
    "          color= \"VIOLET\"\n",
    "    elif hue_value < 153:\n",
    "          color= \"PURPLE\"\n",
    "    elif hue_value < 164:\n",
    "          color= \"ROSE\"\n",
    "    else:\n",
    "        color = \"RED\"\n",
    "   \n",
    "          \n",
    "    pixel_center_bgr = frame[cy,cx]\n",
    "    cv2.putText(frame, color, (10,50),0,1,(255,0,0),2)\n",
    "    cv2.circle(frame,(cx,cy),5,(255,0,0),3)\n",
    "    \n",
    "    cv2.imshow(\"Frame\", frame)\n",
    "    if cv2.waitKey(1)==ord('a'):\n",
    "        break\n",
    "cap.release()\n",
    "cv2.destroyAllWindows()\n",
    "\n",
    "           \n"
   ]
  },
  {
   "cell_type": "code",
   "execution_count": null,
   "id": "fd5a3077-ee1e-4e9f-9273-0399b12a8dc3",
   "metadata": {},
   "outputs": [],
   "source": []
  },
  {
   "cell_type": "code",
   "execution_count": null,
   "id": "262e06b0-44e9-4f9e-952b-55b19fcb8ed0",
   "metadata": {},
   "outputs": [],
   "source": []
  }
 ],
 "metadata": {
  "kernelspec": {
   "display_name": "Python 3 (ipykernel)",
   "language": "python",
   "name": "python3"
  },
  "language_info": {
   "codemirror_mode": {
    "name": "ipython",
    "version": 3
   },
   "file_extension": ".py",
   "mimetype": "text/x-python",
   "name": "python",
   "nbconvert_exporter": "python",
   "pygments_lexer": "ipython3",
   "version": "3.10.9"
  }
 },
 "nbformat": 4,
 "nbformat_minor": 5
}
